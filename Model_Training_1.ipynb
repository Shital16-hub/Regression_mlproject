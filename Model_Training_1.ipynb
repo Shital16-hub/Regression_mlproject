{
 "cells": [
  {
   "cell_type": "markdown",
   "id": "72afe9bb",
   "metadata": {},
   "source": [
    "## Model Training"
   ]
  },
  {
   "cell_type": "markdown",
   "id": "dcd27dd3",
   "metadata": {},
   "source": [
    "#### Import data and requried packages"
   ]
  },
  {
   "cell_type": "code",
   "execution_count": 1,
   "id": "e76422da",
   "metadata": {},
   "outputs": [],
   "source": [
    "# Basic Import\n",
    "import numpy as np\n",
    "import pandas as pd\n",
    "import matplotlib.pyplot as plt \n",
    "import seaborn as sns\n"
   ]
  },
  {
   "cell_type": "code",
   "execution_count": 24,
   "id": "0819101f",
   "metadata": {},
   "outputs": [],
   "source": [
    "# Modelling\n",
    "from sklearn.metrics import mean_squared_error, r2_score\n",
    "from sklearn.neighbors import KNeighborsRegressor\n",
    "from sklearn.tree import DecisionTreeRegressor\n",
    "from sklearn.ensemble import RandomForestRegressor,AdaBoostRegressor\n",
    "from sklearn.svm import SVR\n",
    "from sklearn.linear_model import LinearRegression, Ridge,Lasso\n",
    "from sklearn.metrics import r2_score, mean_absolute_error, mean_squared_error\n",
    "from sklearn.model_selection import RandomizedSearchCV\n",
    "from sklearn.ensemble import GradientBoostingRegressor\n",
    "import warnings"
   ]
  },
  {
   "cell_type": "markdown",
   "id": "75454529",
   "metadata": {},
   "source": [
    "#### Import the CSV Data as Pandas DataFrame"
   ]
  },
  {
   "cell_type": "code",
   "execution_count": 3,
   "id": "8e89bb61",
   "metadata": {},
   "outputs": [],
   "source": [
    "df = pd.read_csv('data/stud.csv')"
   ]
  },
  {
   "cell_type": "code",
   "execution_count": 4,
   "id": "c7cbe7e6",
   "metadata": {
    "scrolled": true
   },
   "outputs": [
    {
     "data": {
      "text/html": [
       "<div>\n",
       "<style scoped>\n",
       "    .dataframe tbody tr th:only-of-type {\n",
       "        vertical-align: middle;\n",
       "    }\n",
       "\n",
       "    .dataframe tbody tr th {\n",
       "        vertical-align: top;\n",
       "    }\n",
       "\n",
       "    .dataframe thead th {\n",
       "        text-align: right;\n",
       "    }\n",
       "</style>\n",
       "<table border=\"1\" class=\"dataframe\">\n",
       "  <thead>\n",
       "    <tr style=\"text-align: right;\">\n",
       "      <th></th>\n",
       "      <th>gender</th>\n",
       "      <th>race_ethnicity</th>\n",
       "      <th>parental_level_of_education</th>\n",
       "      <th>lunch</th>\n",
       "      <th>test_preparation_course</th>\n",
       "      <th>math_score</th>\n",
       "      <th>reading_score</th>\n",
       "      <th>writing_score</th>\n",
       "    </tr>\n",
       "  </thead>\n",
       "  <tbody>\n",
       "    <tr>\n",
       "      <th>0</th>\n",
       "      <td>female</td>\n",
       "      <td>group B</td>\n",
       "      <td>bachelor's degree</td>\n",
       "      <td>standard</td>\n",
       "      <td>none</td>\n",
       "      <td>72</td>\n",
       "      <td>72</td>\n",
       "      <td>74</td>\n",
       "    </tr>\n",
       "    <tr>\n",
       "      <th>1</th>\n",
       "      <td>female</td>\n",
       "      <td>group C</td>\n",
       "      <td>some college</td>\n",
       "      <td>standard</td>\n",
       "      <td>completed</td>\n",
       "      <td>69</td>\n",
       "      <td>90</td>\n",
       "      <td>88</td>\n",
       "    </tr>\n",
       "    <tr>\n",
       "      <th>2</th>\n",
       "      <td>female</td>\n",
       "      <td>group B</td>\n",
       "      <td>master's degree</td>\n",
       "      <td>standard</td>\n",
       "      <td>none</td>\n",
       "      <td>90</td>\n",
       "      <td>95</td>\n",
       "      <td>93</td>\n",
       "    </tr>\n",
       "    <tr>\n",
       "      <th>3</th>\n",
       "      <td>male</td>\n",
       "      <td>group A</td>\n",
       "      <td>associate's degree</td>\n",
       "      <td>free/reduced</td>\n",
       "      <td>none</td>\n",
       "      <td>47</td>\n",
       "      <td>57</td>\n",
       "      <td>44</td>\n",
       "    </tr>\n",
       "    <tr>\n",
       "      <th>4</th>\n",
       "      <td>male</td>\n",
       "      <td>group C</td>\n",
       "      <td>some college</td>\n",
       "      <td>standard</td>\n",
       "      <td>none</td>\n",
       "      <td>76</td>\n",
       "      <td>78</td>\n",
       "      <td>75</td>\n",
       "    </tr>\n",
       "  </tbody>\n",
       "</table>\n",
       "</div>"
      ],
      "text/plain": [
       "   gender race_ethnicity parental_level_of_education         lunch  \\\n",
       "0  female        group B           bachelor's degree      standard   \n",
       "1  female        group C                some college      standard   \n",
       "2  female        group B             master's degree      standard   \n",
       "3    male        group A          associate's degree  free/reduced   \n",
       "4    male        group C                some college      standard   \n",
       "\n",
       "  test_preparation_course  math_score  reading_score  writing_score  \n",
       "0                    none          72             72             74  \n",
       "1               completed          69             90             88  \n",
       "2                    none          90             95             93  \n",
       "3                    none          47             57             44  \n",
       "4                    none          76             78             75  "
      ]
     },
     "execution_count": 4,
     "metadata": {},
     "output_type": "execute_result"
    }
   ],
   "source": [
    "df.head()"
   ]
  },
  {
   "cell_type": "code",
   "execution_count": 5,
   "id": "5c7325c7",
   "metadata": {},
   "outputs": [
    {
     "name": "stdout",
     "output_type": "stream",
     "text": [
      "<class 'pandas.core.frame.DataFrame'>\n",
      "RangeIndex: 1000 entries, 0 to 999\n",
      "Data columns (total 8 columns):\n",
      " #   Column                       Non-Null Count  Dtype \n",
      "---  ------                       --------------  ----- \n",
      " 0   gender                       1000 non-null   object\n",
      " 1   race_ethnicity               1000 non-null   object\n",
      " 2   parental_level_of_education  1000 non-null   object\n",
      " 3   lunch                        1000 non-null   object\n",
      " 4   test_preparation_course      1000 non-null   object\n",
      " 5   math_score                   1000 non-null   int64 \n",
      " 6   reading_score                1000 non-null   int64 \n",
      " 7   writing_score                1000 non-null   int64 \n",
      "dtypes: int64(3), object(5)\n",
      "memory usage: 62.6+ KB\n"
     ]
    }
   ],
   "source": [
    "df.info()"
   ]
  },
  {
   "cell_type": "code",
   "execution_count": 6,
   "id": "0ead33fb",
   "metadata": {},
   "outputs": [
    {
     "data": {
      "text/plain": [
       "gender                          2\n",
       "race_ethnicity                  5\n",
       "parental_level_of_education     6\n",
       "lunch                           2\n",
       "test_preparation_course         2\n",
       "math_score                     81\n",
       "reading_score                  72\n",
       "writing_score                  77\n",
       "dtype: int64"
      ]
     },
     "execution_count": 6,
     "metadata": {},
     "output_type": "execute_result"
    }
   ],
   "source": [
    "df.nunique()"
   ]
  },
  {
   "cell_type": "code",
   "execution_count": 7,
   "id": "3fd0e101",
   "metadata": {},
   "outputs": [
    {
     "name": "stdout",
     "output_type": "stream",
     "text": [
      "Categories in 'gender' variable:      ['female' 'male']\n",
      "Categories in 'race_ethnicity' variable:   ['group B' 'group C' 'group A' 'group D' 'group E']\n",
      "Categories in'parental level of education' variable: [\"bachelor's degree\" 'some college' \"master's degree\" \"associate's degree\"\n",
      " 'high school' 'some high school']\n",
      "Categories in 'lunch' variable:      ['standard' 'free/reduced']\n",
      "Categories in 'test preparation course' variable:      ['none' 'completed']\n"
     ]
    }
   ],
   "source": [
    "print(\"Categories in 'gender' variable:     \",end=\" \" )\n",
    "print(df['gender'].unique())\n",
    "\n",
    "print(\"Categories in 'race_ethnicity' variable:  \",end=\" \")\n",
    "print(df['race_ethnicity'].unique())\n",
    "\n",
    "print(\"Categories in'parental level of education' variable:\",end=\" \" )\n",
    "print(df['parental_level_of_education'].unique())\n",
    "\n",
    "print(\"Categories in 'lunch' variable:     \",end=\" \" )\n",
    "print(df['lunch'].unique())\n",
    "\n",
    "print(\"Categories in 'test preparation course' variable:     \",end=\" \" )\n",
    "print(df['test_preparation_course'].unique())"
   ]
  },
  {
   "cell_type": "markdown",
   "id": "54260062",
   "metadata": {},
   "source": [
    "#### Preparing X and Y variable"
   ]
  },
  {
   "cell_type": "code",
   "execution_count": 8,
   "id": "4da0a29f",
   "metadata": {},
   "outputs": [],
   "source": [
    "X = df.drop(columns='math_score',axis=1)"
   ]
  },
  {
   "cell_type": "code",
   "execution_count": 9,
   "id": "022a224b",
   "metadata": {},
   "outputs": [
    {
     "data": {
      "text/html": [
       "<div>\n",
       "<style scoped>\n",
       "    .dataframe tbody tr th:only-of-type {\n",
       "        vertical-align: middle;\n",
       "    }\n",
       "\n",
       "    .dataframe tbody tr th {\n",
       "        vertical-align: top;\n",
       "    }\n",
       "\n",
       "    .dataframe thead th {\n",
       "        text-align: right;\n",
       "    }\n",
       "</style>\n",
       "<table border=\"1\" class=\"dataframe\">\n",
       "  <thead>\n",
       "    <tr style=\"text-align: right;\">\n",
       "      <th></th>\n",
       "      <th>gender</th>\n",
       "      <th>race_ethnicity</th>\n",
       "      <th>parental_level_of_education</th>\n",
       "      <th>lunch</th>\n",
       "      <th>test_preparation_course</th>\n",
       "      <th>reading_score</th>\n",
       "      <th>writing_score</th>\n",
       "    </tr>\n",
       "  </thead>\n",
       "  <tbody>\n",
       "    <tr>\n",
       "      <th>0</th>\n",
       "      <td>female</td>\n",
       "      <td>group B</td>\n",
       "      <td>bachelor's degree</td>\n",
       "      <td>standard</td>\n",
       "      <td>none</td>\n",
       "      <td>72</td>\n",
       "      <td>74</td>\n",
       "    </tr>\n",
       "    <tr>\n",
       "      <th>1</th>\n",
       "      <td>female</td>\n",
       "      <td>group C</td>\n",
       "      <td>some college</td>\n",
       "      <td>standard</td>\n",
       "      <td>completed</td>\n",
       "      <td>90</td>\n",
       "      <td>88</td>\n",
       "    </tr>\n",
       "    <tr>\n",
       "      <th>2</th>\n",
       "      <td>female</td>\n",
       "      <td>group B</td>\n",
       "      <td>master's degree</td>\n",
       "      <td>standard</td>\n",
       "      <td>none</td>\n",
       "      <td>95</td>\n",
       "      <td>93</td>\n",
       "    </tr>\n",
       "    <tr>\n",
       "      <th>3</th>\n",
       "      <td>male</td>\n",
       "      <td>group A</td>\n",
       "      <td>associate's degree</td>\n",
       "      <td>free/reduced</td>\n",
       "      <td>none</td>\n",
       "      <td>57</td>\n",
       "      <td>44</td>\n",
       "    </tr>\n",
       "    <tr>\n",
       "      <th>4</th>\n",
       "      <td>male</td>\n",
       "      <td>group C</td>\n",
       "      <td>some college</td>\n",
       "      <td>standard</td>\n",
       "      <td>none</td>\n",
       "      <td>78</td>\n",
       "      <td>75</td>\n",
       "    </tr>\n",
       "  </tbody>\n",
       "</table>\n",
       "</div>"
      ],
      "text/plain": [
       "   gender race_ethnicity parental_level_of_education         lunch  \\\n",
       "0  female        group B           bachelor's degree      standard   \n",
       "1  female        group C                some college      standard   \n",
       "2  female        group B             master's degree      standard   \n",
       "3    male        group A          associate's degree  free/reduced   \n",
       "4    male        group C                some college      standard   \n",
       "\n",
       "  test_preparation_course  reading_score  writing_score  \n",
       "0                    none             72             74  \n",
       "1               completed             90             88  \n",
       "2                    none             95             93  \n",
       "3                    none             57             44  \n",
       "4                    none             78             75  "
      ]
     },
     "execution_count": 9,
     "metadata": {},
     "output_type": "execute_result"
    }
   ],
   "source": [
    "X.head()"
   ]
  },
  {
   "cell_type": "code",
   "execution_count": 10,
   "id": "ab8cd57c",
   "metadata": {},
   "outputs": [
    {
     "data": {
      "text/plain": [
       "0      72\n",
       "1      69\n",
       "2      90\n",
       "3      47\n",
       "4      76\n",
       "       ..\n",
       "995    88\n",
       "996    62\n",
       "997    59\n",
       "998    68\n",
       "999    77\n",
       "Name: math_score, Length: 1000, dtype: int64"
      ]
     },
     "execution_count": 10,
     "metadata": {},
     "output_type": "execute_result"
    }
   ],
   "source": [
    "y = df['math_score']\n",
    "y"
   ]
  },
  {
   "cell_type": "code",
   "execution_count": 11,
   "id": "6881f087",
   "metadata": {},
   "outputs": [
    {
     "data": {
      "text/plain": [
       "Index(['gender', 'race_ethnicity', 'parental_level_of_education', 'lunch',\n",
       "       'test_preparation_course', 'math_score', 'reading_score',\n",
       "       'writing_score'],\n",
       "      dtype='object')"
      ]
     },
     "execution_count": 11,
     "metadata": {},
     "output_type": "execute_result"
    }
   ],
   "source": [
    "df.columns"
   ]
  },
  {
   "cell_type": "code",
   "execution_count": 12,
   "id": "28eb50d5",
   "metadata": {},
   "outputs": [],
   "source": [
    "# Create Column Transformer\n",
    "from sklearn.compose import ColumnTransformer\n",
    "from sklearn.preprocessing import StandardScaler, OneHotEncoder\n",
    "\n",
    "ct = ColumnTransformer([\n",
    "        ('scale', StandardScaler(), ['reading_score','writing_score']),\n",
    "        ('encode', OneHotEncoder(), ['gender','race_ethnicity','parental_level_of_education','lunch','test_preparation_course'])\n",
    "    ])"
   ]
  },
  {
   "cell_type": "code",
   "execution_count": 13,
   "id": "bd96f850",
   "metadata": {},
   "outputs": [],
   "source": [
    "X = ct.fit_transform(X)"
   ]
  },
  {
   "cell_type": "code",
   "execution_count": 14,
   "id": "8079b677",
   "metadata": {},
   "outputs": [
    {
     "data": {
      "text/plain": [
       "(1000, 19)"
      ]
     },
     "execution_count": 14,
     "metadata": {},
     "output_type": "execute_result"
    }
   ],
   "source": [
    "X.shape"
   ]
  },
  {
   "cell_type": "code",
   "execution_count": 15,
   "id": "f5c7c8f3",
   "metadata": {},
   "outputs": [
    {
     "data": {
      "text/plain": [
       "((800, 19), (200, 19))"
      ]
     },
     "execution_count": 15,
     "metadata": {},
     "output_type": "execute_result"
    }
   ],
   "source": [
    "# separate dataset into train and test\n",
    "from sklearn.model_selection import train_test_split\n",
    "X_train, X_test, y_train, y_test = train_test_split(X,y,test_size=0.2,random_state=42)\n",
    "X_train.shape, X_test.shape"
   ]
  },
  {
   "cell_type": "markdown",
   "id": "3e80932e",
   "metadata": {},
   "source": [
    "## Linear Regression"
   ]
  },
  {
   "cell_type": "markdown",
   "id": "1b9d528e",
   "metadata": {},
   "source": [
    "#### Tune hyperparameters in a linear regression model using Gridsearchcv"
   ]
  },
  {
   "cell_type": "code",
   "execution_count": 16,
   "id": "fb8cdd3b",
   "metadata": {},
   "outputs": [
    {
     "name": "stdout",
     "output_type": "stream",
     "text": [
      "Best hyperparameters:  {'copy_X': True, 'fit_intercept': False, 'n_jobs': 3, 'positive': False}\n",
      "Best score:  0.8685885989218136\n",
      "=====================\n",
      "RMSE on training set: 5.323050852720514\n",
      "r2_score on training set: 0.8743172040139593\n",
      "=====================\n",
      "RMSE on test set: 5.393993869732846\n",
      "r2_score on test set: 0.8804332983749563\n"
     ]
    }
   ],
   "source": [
    "from sklearn.model_selection import GridSearchCV\n",
    "\n",
    "\n",
    "# Initialize the linear regression model\n",
    "lr = LinearRegression()\n",
    "\n",
    "# Define the hyperparameters to search over\n",
    "param_grid = {'copy_X' : [True,False],\n",
    "              'fit_intercept': [True, False],\n",
    "              'n_jobs': [3, 4, 5],\n",
    "              'positive': [True, False]\n",
    "             }\n",
    "\n",
    "# Initialize the GridSearchCV object\n",
    "grid_search = GridSearchCV(lr, param_grid=param_grid, cv=5, n_jobs=-1)\n",
    "\n",
    "# Fit the model with the hyperparameters specified in param_grid\n",
    "grid_search.fit(X_train, y_train)\n",
    "\n",
    "# Print the best hyperparameters and resulting score\n",
    "print(\"Best hyperparameters: \", grid_search.best_params_)\n",
    "print(\"Best score: \", grid_search.best_score_)\n",
    "\n",
    "# Train the Linear regression model using the selected values  on the entire training set\n",
    "best_params = grid_search.best_params_\n",
    "lr = LinearRegression(**best_params)\n",
    "lr.fit(X_train, y_train)\n",
    "\n",
    "print(\"=====================\")\n",
    "\n",
    "# Evaluate the model on the training set\n",
    "y_train_pred = lr.predict(X_train)\n",
    "r2_square = r2_score(y_train, y_train_pred)\n",
    "mse = mean_squared_error(y_train, y_train_pred)\n",
    "rmse = np.sqrt(mse)\n",
    "print(\"RMSE on training set:\", rmse)\n",
    "print(\"r2_score on training set:\", r2_square)\n",
    "\n",
    "print(\"=====================\")\n",
    "\n",
    "# Evaluate the model on the testing set\n",
    "y_test_pred = lr.predict(X_test)\n",
    "r2_square = r2_score(y_test, y_test_pred)\n",
    "mse = mean_squared_error(y_test, y_test_pred)\n",
    "rmse = np.sqrt(mse)\n",
    "print(\"RMSE on test set:\", rmse)\n",
    "print(\"r2_score on test set:\", r2_square)\n"
   ]
  },
  {
   "cell_type": "markdown",
   "id": "96e11891",
   "metadata": {},
   "source": [
    "## Ridge Regression"
   ]
  },
  {
   "cell_type": "markdown",
   "id": "49d11b6a",
   "metadata": {},
   "source": [
    "#### GridSearchCV"
   ]
  },
  {
   "cell_type": "code",
   "execution_count": 17,
   "id": "00e71735",
   "metadata": {},
   "outputs": [
    {
     "name": "stdout",
     "output_type": "stream",
     "text": [
      "Best hyperparameters:  {'alpha': 1.0}\n",
      "Best score:  -29.484534514134474\n",
      "=====================\n",
      "RMSE on training set: 5.323324922741655\n",
      "r2_score on training set: 0.8743042615212909\n",
      "=====================\n",
      "RMSE on test set: 5.3903870169356365\n",
      "r2_score on test set: 0.8805931485028738\n"
     ]
    }
   ],
   "source": [
    "ridge = Ridge()\n",
    "\n",
    "# Create a range of values for the regularization strength parameter alpha that you want to test\n",
    "param_grid = {'alpha': np.logspace(-4, 4, 9)}\n",
    "\n",
    "# Perform k-fold cross-validation on the training set using each of the values of alpha\n",
    "grid_search = GridSearchCV(ridge, param_grid, cv=5, scoring='neg_mean_squared_error')\n",
    "grid_search.fit(X_train, y_train)\n",
    "\n",
    "# Print the best hyperparameters and resulting score\n",
    "print(\"Best hyperparameters: \", grid_search.best_params_)\n",
    "print(\"Best score: \", grid_search.best_score_)\n",
    "\n",
    "# Train the Ridge regression model using the selected value of alpha on the entire training set\n",
    "best_alpha = grid_search.best_params_['alpha']\n",
    "ridge = Ridge(alpha=best_alpha)\n",
    "ridge.fit(X_train, y_train)\n",
    "\n",
    "\n",
    "print(\"=====================\")\n",
    "\n",
    "# Evaluate the model on the training set\n",
    "y_train_pred = ridge.predict(X_train)\n",
    "r2_square = r2_score(y_train, y_train_pred)\n",
    "mse = mean_squared_error(y_train, y_train_pred)\n",
    "rmse = np.sqrt(mse)\n",
    "print(\"RMSE on training set:\", rmse)\n",
    "print(\"r2_score on training set:\", r2_square)\n",
    "\n",
    "print(\"=====================\")\n",
    "\n",
    "# Evaluate the model on the testing set\n",
    "y_test_pred = ridge.predict(X_test)\n",
    "r2_square = r2_score(y_test, y_test_pred)\n",
    "mse = mean_squared_error(y_test, y_test_pred)\n",
    "rmse = np.sqrt(mse)\n",
    "print(\"RMSE on test set:\", rmse)\n",
    "print(\"r2_score on test set:\", r2_square)"
   ]
  },
  {
   "cell_type": "markdown",
   "id": "7bf0d61f",
   "metadata": {},
   "source": [
    "## Lasso Regression"
   ]
  },
  {
   "cell_type": "code",
   "execution_count": 18,
   "id": "9bf34c7e",
   "metadata": {},
   "outputs": [
    {
     "name": "stdout",
     "output_type": "stream",
     "text": [
      "Best hyperparameters: {'alpha': 0.1, 'max_iter': 5000, 'selection': 'random', 'tol': 0.001}\n",
      "Best score: 0.8666643475174984\n",
      "=====================\n",
      "RMSE on training set: 5.396547214732501\n",
      "r2_score on training set: 0.8708225921449809\n",
      "=====================\n",
      "RMSE on test set: 5.371112095816639\n",
      "r2_score on test set: 0.8814455706710169\n"
     ]
    }
   ],
   "source": [
    "# define Lasso regression model\n",
    "lasso = Lasso()\n",
    "\n",
    "# define hyperparameters to tune\n",
    "param_grid = {'alpha': [0.1, 1.0, 10.0],\n",
    "              'max_iter': [1000, 5000, 10000],\n",
    "              'tol': [0.001, 0.0001, 0.00001],\n",
    "              'selection': ['cyclic', 'random']}\n",
    "\n",
    "# perform grid search to find best hyperparameters\n",
    "grid_search = GridSearchCV(estimator=lasso, param_grid=param_grid, cv=5)\n",
    "grid_search.fit(X_train, y_train)\n",
    "\n",
    "# print best hyperparameters and corresponding score\n",
    "print('Best hyperparameters:', grid_search.best_params_)\n",
    "print('Best score:', grid_search.best_score_)\n",
    "\n",
    "# Train the Ridge regression model using the selected value of alpha on the entire training set\n",
    "best_params = grid_search.best_params_\n",
    "lasso = Lasso(**best_params)\n",
    "lasso.fit(X_train, y_train)\n",
    "\n",
    "print(\"=====================\")\n",
    "\n",
    "# Evaluate the model on the training set\n",
    "y_train_pred = lasso.predict(X_train)\n",
    "r2_square = r2_score(y_train, y_train_pred)\n",
    "mse = mean_squared_error(y_train, y_train_pred)\n",
    "rmse = np.sqrt(mse)\n",
    "print(\"RMSE on training set:\", rmse)\n",
    "print(\"r2_score on training set:\", r2_square)\n",
    "\n",
    "print(\"=====================\")\n",
    "\n",
    "# Evaluate the model on the testing set\n",
    "y_test_pred = lasso.predict(X_test)\n",
    "r2_square = r2_score(y_test, y_test_pred)\n",
    "mse = mean_squared_error(y_test, y_test_pred)\n",
    "rmse = np.sqrt(mse)\n",
    "print(\"RMSE on test set:\", rmse)\n",
    "print(\"r2_score on test set:\", r2_square)"
   ]
  },
  {
   "cell_type": "markdown",
   "id": "42dad304",
   "metadata": {},
   "source": [
    "## KNN regression"
   ]
  },
  {
   "cell_type": "code",
   "execution_count": 19,
   "id": "338eea61",
   "metadata": {},
   "outputs": [
    {
     "name": "stdout",
     "output_type": "stream",
     "text": [
      "=====================\n",
      "RMSE on training set: 5.907978434597868\n",
      "r_2 score on training set: 0.8451780952955499\n",
      "=====================\n",
      "RMSE on test set: 7.140199505587491\n",
      "r2_score on test set: 0.7904874488383591\n"
     ]
    }
   ],
   "source": [
    "# Define the model\n",
    "knn = KNeighborsRegressor()\n",
    "\n",
    "# Define the parameter grid to search\n",
    "param_grid = {'n_neighbors': [3, 5, 7], 'metric': ['euclidean', 'manhattan']}\n",
    "\n",
    "# Define the grid search object\n",
    "grid_search = GridSearchCV(knn, param_grid, cv=5, scoring='neg_mean_squared_error')\n",
    "\n",
    "# Fit the grid search object to the training data\n",
    "grid_search.fit(X_train, y_train)\n",
    "\n",
    "# Get the best hyperparameters\n",
    "best_params = grid_search.best_params_\n",
    "\n",
    "# Train the model with the best hyperparameters\n",
    "knn = KNeighborsRegressor(**best_params)\n",
    "knn.fit(X_train, y_train)\n",
    "\n",
    "\n",
    "#print('Best score:', grid_search.best_score_)\n",
    "\n",
    "print(\"=====================\")\n",
    "\n",
    "# Evaluate the model on the training set\n",
    "y_train_pred = knn.predict(X_train)\n",
    "r2_square = r2_score(y_train, y_train_pred)\n",
    "model_train_r2 = r2_score(y_train, y_train_pred)\n",
    "mse = mean_squared_error(y_train, y_train_pred)\n",
    "rmse = np.sqrt(mse)\n",
    "print(\"RMSE on training set:\", rmse)\n",
    "print(\"r_2 score on training set:\", model_train_r2)\n",
    "\n",
    "print(\"=====================\")\n",
    "\n",
    "# Evaluate the model on the testing set\n",
    "y_test_pred = knn.predict(X_test)\n",
    "r2_square = r2_score(y_test, y_test_pred)\n",
    "mse = mean_squared_error(y_test, y_test_pred)\n",
    "rmse = np.sqrt(mse)\n",
    "print(\"RMSE on test set:\", rmse)\n",
    "print(\"r2_score on test set:\", r2_square)\n"
   ]
  },
  {
   "cell_type": "markdown",
   "id": "974408c8",
   "metadata": {},
   "source": [
    "## Decision Tree Regression"
   ]
  },
  {
   "cell_type": "code",
   "execution_count": 20,
   "id": "eb2c6000",
   "metadata": {},
   "outputs": [
    {
     "name": "stdout",
     "output_type": "stream",
     "text": [
      "{'max_depth': 10, 'max_leaf_nodes': None, 'min_samples_leaf': 8, 'min_samples_split': 2}\n"
     ]
    }
   ],
   "source": [
    "dt = DecisionTreeRegressor(random_state=42)\n",
    "\n",
    "# Define the parameter grid to search\n",
    "param_grid = {\n",
    "    'max_depth': [2, 5, 10, 15],\n",
    "    'min_samples_split': [2, 5, 10, 15],\n",
    "    'min_samples_leaf': [1, 2, 4, 8],\n",
    "    'max_leaf_nodes': [None, 5, 10, 20]\n",
    "}\n",
    "\n",
    "# Define the grid search object\n",
    "grid_search = GridSearchCV(dt, param_grid, cv=5, n_jobs=-1)\n",
    "\n",
    "# Fit the grid search object to the training data\n",
    "grid_search.fit(X_train, y_train)\n",
    "\n",
    "# Get the best hyperparameters\n",
    "best_params = grid_search.best_params_\n",
    "print(best_params)\n",
    "\n",
    "\n"
   ]
  },
  {
   "cell_type": "code",
   "execution_count": 21,
   "id": "56f1e5ce",
   "metadata": {},
   "outputs": [
    {
     "name": "stdout",
     "output_type": "stream",
     "text": [
      "=====================\n",
      "RMSE on training set: 5.114615218100608\n",
      "r_2 score on training set: 0.8839672630615256\n",
      "=====================\n",
      "RMSE on test set: 6.512374805353404\n",
      "r2_score on test set: 0.8257117429661665\n"
     ]
    }
   ],
   "source": [
    "# Train the model with the best hyperparameters\n",
    "dt = DecisionTreeRegressor(**best_params)\n",
    "dt.fit(X_train, y_train)\n",
    "\n",
    "\n",
    "print(\"=====================\")\n",
    "\n",
    "# Evaluate the model on the training set\n",
    "y_train_pred = dt.predict(X_train)\n",
    "r2_square = r2_score(y_train, y_train_pred)\n",
    "model_train_r2 = r2_score(y_train, y_train_pred)\n",
    "mse = mean_squared_error(y_train, y_train_pred)\n",
    "rmse = np.sqrt(mse)\n",
    "print(\"RMSE on training set:\", rmse)\n",
    "print(\"r_2 score on training set:\", model_train_r2)\n",
    "\n",
    "print(\"=====================\")\n",
    "\n",
    "# Evaluate the model on the testing set\n",
    "y_test_pred = dt.predict(X_test)\n",
    "r2_square = r2_score(y_test, y_test_pred)\n",
    "mse = mean_squared_error(y_test, y_test_pred)\n",
    "rmse = np.sqrt(mse)\n",
    "print(\"RMSE on test set:\", rmse)\n",
    "print(\"r2_score on test set:\", r2_square)\n",
    "\n"
   ]
  },
  {
   "cell_type": "markdown",
   "id": "f0307fd1",
   "metadata": {},
   "source": [
    "## Random Forest Regression"
   ]
  },
  {
   "cell_type": "code",
   "execution_count": 22,
   "id": "40b00c96",
   "metadata": {},
   "outputs": [
    {
     "name": "stdout",
     "output_type": "stream",
     "text": [
      "{'max_depth': 10, 'min_samples_split': 10, 'n_estimators': 1000}\n",
      "=====================\n",
      "RMSE on training set: 4.018198936499479\n",
      "r_2 score on training set: 0.9283827778067943\n",
      "=====================\n",
      "RMSE on test set: 5.917437888243576\n",
      "r2_score on test set: 0.8561013339398114\n"
     ]
    }
   ],
   "source": [
    "# Create a random forest regression model\n",
    "rf = RandomForestRegressor(random_state=42)\n",
    "\n",
    "# Define the grid of hyperparameters to search\n",
    "params_grid = {\n",
    "    'n_estimators': [100, 500, 1000],\n",
    "    'max_depth': [None, 5, 10],\n",
    "    'min_samples_split': [2, 5, 10]\n",
    "}\n",
    "\n",
    "# Perform a grid search of the hyperparameters using 5-fold cross-validation\n",
    "grid_search = GridSearchCV(estimator=rf, param_grid=params_grid, cv=5, n_jobs=-1)\n",
    "\n",
    "# Fit the grid search to the training data\n",
    "grid_search.fit(X_train, y_train)\n",
    "\n",
    "# Get the best hyperparameters\n",
    "best_params = grid_search.best_params_\n",
    "\n",
    "# Print the best hyperparameters found\n",
    "print(grid_search.best_params_)\n",
    "\n",
    "# Train the model with the best hyperparameters\n",
    "rf = RandomForestRegressor(**best_params)\n",
    "rf.fit(X_train, y_train)\n",
    "\n",
    "print(\"=====================\")\n",
    "\n",
    "# Evaluate the model on the training set\n",
    "y_train_pred = rf.predict(X_train)\n",
    "r2_square = r2_score(y_train, y_train_pred)\n",
    "model_train_r2 = r2_score(y_train, y_train_pred)\n",
    "mse = mean_squared_error(y_train, y_train_pred)\n",
    "rmse = np.sqrt(mse)\n",
    "print(\"RMSE on training set:\", rmse)\n",
    "print(\"r_2 score on training set:\", model_train_r2)\n",
    "\n",
    "print(\"=====================\")\n",
    "\n",
    "# Evaluate the model on the testing set\n",
    "y_test_pred = rf.predict(X_test)\n",
    "r2_square = r2_score(y_test, y_test_pred)\n",
    "mse = mean_squared_error(y_test, y_test_pred)\n",
    "rmse = np.sqrt(mse)\n",
    "print(\"RMSE on test set:\", rmse)\n",
    "print(\"r2_score on test set:\", r2_square)\n",
    "\n"
   ]
  },
  {
   "cell_type": "markdown",
   "id": "3949298a",
   "metadata": {},
   "source": [
    "## Ada Boost Regression"
   ]
  },
  {
   "cell_type": "code",
   "execution_count": 23,
   "id": "4d64fc55",
   "metadata": {},
   "outputs": [
    {
     "name": "stdout",
     "output_type": "stream",
     "text": [
      "Best hyperparameters: {'learning_rate': 1.0, 'loss': 'exponential', 'n_estimators': 200}\n",
      "Best score: 0.8296744933482205\n",
      "=====================\n",
      "RMSE on training set: 5.6812980691148915\n",
      "r_2 score on training set: 0.8568307487843236\n",
      "=====================\n",
      "RMSE on test set: 6.025270978915051\n",
      "r2_score on test set: 0.8508090364309294\n"
     ]
    }
   ],
   "source": [
    "# Define the AdaBoostRegressor model\n",
    "ada_boost = AdaBoostRegressor()\n",
    "\n",
    "# Define the hyperparameters to tune\n",
    "param_grid = {\n",
    "    'n_estimators': [50, 100, 200],\n",
    "    'learning_rate': [0.01, 0.1, 1.0],\n",
    "    'loss': ['linear', 'square', 'exponential']\n",
    "}\n",
    "\n",
    "# Perform a grid search to find the best hyperparameters\n",
    "grid_search = GridSearchCV(estimator=ada_boost, param_grid=param_grid, cv=5)\n",
    "grid_search.fit(X_train, y_train)\n",
    "\n",
    "# Print the best hyperparameters and score\n",
    "print('Best hyperparameters:', grid_search.best_params_)\n",
    "print('Best score:', grid_search.best_score_)\n",
    "\n",
    "\n",
    "# Get the best hyperparameters\n",
    "best_params = grid_search.best_params_\n",
    "\n",
    "# Train the model with the best hyperparameters\n",
    "ada_boost = AdaBoostRegressor(**best_params)\n",
    "ada_boost.fit(X_train, y_train)\n",
    "\n",
    "print(\"=====================\")\n",
    "\n",
    "# Evaluate the model on the training set\n",
    "y_train_pred = ada_boost.predict(X_train)\n",
    "r2_square = r2_score(y_train, y_train_pred)\n",
    "model_train_r2 = r2_score(y_train, y_train_pred)\n",
    "mse = mean_squared_error(y_train, y_train_pred)\n",
    "rmse = np.sqrt(mse)\n",
    "print(\"RMSE on training set:\", rmse)\n",
    "print(\"r_2 score on training set:\", model_train_r2)\n",
    "\n",
    "print(\"=====================\")\n",
    "\n",
    "# Evaluate the model on the testing set\n",
    "y_test_pred = ada_boost.predict(X_test)\n",
    "r2_square = r2_score(y_test, y_test_pred)\n",
    "mse = mean_squared_error(y_test, y_test_pred)\n",
    "rmse = np.sqrt(mse)\n",
    "print(\"RMSE on test set:\", rmse)\n",
    "print(\"r2_score on test set:\", r2_square)\n",
    "\n"
   ]
  },
  {
   "cell_type": "markdown",
   "id": "aa7b7328",
   "metadata": {},
   "source": [
    "## GradientBoost Regression"
   ]
  },
  {
   "cell_type": "code",
   "execution_count": 29,
   "id": "c6d91314",
   "metadata": {},
   "outputs": [
    {
     "name": "stdout",
     "output_type": "stream",
     "text": [
      "Best Hyperparameters:  {'learning_rate': 0.05, 'max_depth': 3, 'min_samples_split': 6, 'n_estimators': 200}\n",
      "Best Score:  0.8493044223680141\n",
      "=====================\n",
      "RMSE on training set: 4.647160680999199\n",
      "r_2 score on training set: 0.9042078366710554\n",
      "=====================\n",
      "RMSE on test set: 5.5561629190557\n",
      "r2_score on test set: 0.8731357386130197\n"
     ]
    }
   ],
   "source": [
    "# define the gradient boosting regressor model\n",
    "gb = GradientBoostingRegressor()\n",
    "\n",
    "# define the hyperparameters to be tuned\n",
    "param_grid = {\n",
    "    'n_estimators': [100, 200, 300],\n",
    "    'max_depth': [3, 4, 5],\n",
    "    'learning_rate': [0.05, 0.1, 0.15],\n",
    "    'min_samples_split': [2, 4, 6]\n",
    "}\n",
    "\n",
    "# perform grid search to find the best hyperparameters\n",
    "grid_search = GridSearchCV(gb, param_grid, cv=5, n_jobs=-1)\n",
    "grid_search.fit(X_train, y_train)\n",
    "\n",
    "# print the best hyperparameters and the corresponding score\n",
    "print(\"Best Hyperparameters: \", grid_search.best_params_)\n",
    "print(\"Best Score: \", grid_search.best_score_)\n",
    "\n",
    "# Get the best hyperparameters\n",
    "best_params = grid_search.best_params_\n",
    "\n",
    "\n",
    "# Train the model with the best hyperparameters\n",
    "gb = GradientBoostingRegressor(**best_params)\n",
    "gb.fit(X_train, y_train)\n",
    "\n",
    "print(\"=====================\")\n",
    "\n",
    "# Evaluate the model on the training set\n",
    "y_train_pred = gb.predict(X_train)\n",
    "r2_square = r2_score(y_train, y_train_pred)\n",
    "model_train_r2 = r2_score(y_train, y_train_pred)\n",
    "mse = mean_squared_error(y_train, y_train_pred)\n",
    "rmse = np.sqrt(mse)\n",
    "print(\"RMSE on training set:\", rmse)\n",
    "print(\"r_2 score on training set:\", model_train_r2)\n",
    "\n",
    "print(\"=====================\")\n",
    "\n",
    "# Evaluate the model on the testing set\n",
    "y_test_pred = gb.predict(X_test)\n",
    "r2_square = r2_score(y_test, y_test_pred)\n",
    "mse = mean_squared_error(y_test, y_test_pred)\n",
    "rmse = np.sqrt(mse)\n",
    "print(\"RMSE on test set:\", rmse)\n",
    "print(\"r2_score on test set:\", r2_square)\n"
   ]
  },
  {
   "cell_type": "markdown",
   "id": "6718f327",
   "metadata": {},
   "source": [
    "## SVR"
   ]
  },
  {
   "cell_type": "code",
   "execution_count": 31,
   "id": "c1943be8",
   "metadata": {},
   "outputs": [
    {
     "name": "stdout",
     "output_type": "stream",
     "text": [
      "Best hyperparameters:  {'C': 10, 'epsilon': 1, 'kernel': 'linear'}\n",
      "Best score:  0.8664885252959795\n",
      "=====================\n",
      "RMSE on training set: 5.341044656242024\n",
      "r_2 score on training set: 0.8734660628334536\n",
      "=====================\n",
      "RMSE on test set: 5.340943656915748\n",
      "r2_score on test set: 0.8827736224683463\n"
     ]
    }
   ],
   "source": [
    "from sklearn import svm\n",
    "\n",
    "# Create SVM regressor object\n",
    "svr = svm.SVR()\n",
    "\n",
    "# Define parameter grid\n",
    "param_grid = {'C': [0.1, 1, 10, 100],\n",
    "              'epsilon': [0.01, 0.1, 1, 10],\n",
    "              'kernel': ['linear', 'poly', 'rbf', 'sigmoid']}\n",
    "\n",
    "\n",
    "# Create grid search object\n",
    "grid_search = GridSearchCV(estimator=svr, param_grid=param_grid, cv=5, n_jobs=-1)\n",
    "\n",
    "# Fit the grid search object to the data\n",
    "grid_search.fit(X_train, y_train)\n",
    "\n",
    "# Print the best hyperparameters and score\n",
    "print(\"Best hyperparameters: \", grid_search.best_params_)\n",
    "print(\"Best score: \", grid_search.best_score_)\n",
    "\n",
    "# Get the best hyperparameters\n",
    "best_params = grid_search.best_params_\n",
    "\n",
    "\n",
    "# Train the model with the best hyperparameters\n",
    "svr = svm.SVR(**best_params)\n",
    "svr.fit(X_train, y_train)\n",
    "\n",
    "print(\"=====================\")\n",
    "\n",
    "# Evaluate the model on the training set\n",
    "y_train_pred = svr.predict(X_train)\n",
    "r2_square = r2_score(y_train, y_train_pred)\n",
    "model_train_r2 = r2_score(y_train, y_train_pred)\n",
    "mse = mean_squared_error(y_train, y_train_pred)\n",
    "rmse = np.sqrt(mse)\n",
    "print(\"RMSE on training set:\", rmse)\n",
    "print(\"r_2 score on training set:\", model_train_r2)\n",
    "\n",
    "print(\"=====================\")\n",
    "\n",
    "# Evaluate the model on the testing set\n",
    "y_test_pred = svr.predict(X_test)\n",
    "r2_square = r2_score(y_test, y_test_pred)\n",
    "mse = mean_squared_error(y_test, y_test_pred)\n",
    "rmse = np.sqrt(mse)\n",
    "print(\"RMSE on test set:\", rmse)\n",
    "print(\"r2_score on test set:\", r2_square)\n"
   ]
  },
  {
   "cell_type": "markdown",
   "id": "24d64ece",
   "metadata": {},
   "source": [
    "### Conclusion"
   ]
  },
  {
   "cell_type": "markdown",
   "id": "f6d1e191",
   "metadata": {},
   "source": [
    "    Based on the metrics , the linear regression model appears to be a reasonably good model for predicting the target variable. It has a training accuracy of 0.88 and a test accuracy of 0.87, which indicates that the model is performing consistently on both the training and test data. The RMSE on the training set (5.32) and the test set (5.39) are also reasonable, indicating that the model's predictions are not too far off from the actual values.\n",
    "    In conclusion, the linear regression model provides a good starting point for predicting the target variable. However, it is important to continue exploring and refining the model to improve its accuracy and performance.\n"
   ]
  },
  {
   "cell_type": "code",
   "execution_count": null,
   "id": "d6a996c9",
   "metadata": {},
   "outputs": [],
   "source": []
  }
 ],
 "metadata": {
  "kernelspec": {
   "display_name": "Python 3 (ipykernel)",
   "language": "python",
   "name": "python3"
  },
  "language_info": {
   "codemirror_mode": {
    "name": "ipython",
    "version": 3
   },
   "file_extension": ".py",
   "mimetype": "text/x-python",
   "name": "python",
   "nbconvert_exporter": "python",
   "pygments_lexer": "ipython3",
   "version": "3.10.9"
  }
 },
 "nbformat": 4,
 "nbformat_minor": 5
}
